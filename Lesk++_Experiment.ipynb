{
  "cells": [
    {
      "cell_type": "code",
      "execution_count": 3,
      "metadata": {
        "id": "GRnijAB3RZD8"
      },
      "outputs": [
        {
          "name": "stderr",
          "output_type": "stream",
          "text": [
            "Warming up PyWSD (takes ~10 secs)... took 7.5904340744018555 secs.\n"
          ]
        }
      ],
      "source": [
        "from lesk.path import *\n",
        "from lesk.dataloader import load_data, semcor_loader, senseval_loader, ModelType\n",
        "from lesk.experiment import *\n"
      ]
    },
    {
      "cell_type": "code",
      "execution_count": null,
      "metadata": {
        "id": "E14leZzRuqtt"
      },
      "outputs": [],
      "source": [
        "#local_filename, _ = urlretrieve(url_auto,AutoExtend)\n",
        "#shutil.unpack_archive(AutoExtend)"
      ]
    },
    {
      "cell_type": "code",
      "execution_count": 6,
      "metadata": {
        "colab": {
          "base_uri": "https://localhost:8080/"
        },
        "id": "pVHz_zg4kCPy",
        "outputId": "f412ceec-b2ea-4882-bac2-08ab06ac05f0"
      },
      "outputs": [
        {
          "ename": "NameError",
          "evalue": "name 'convert_offset' is not defined",
          "output_type": "error",
          "traceback": [
            "\u001b[0;31m---------------------------------------------------------------------------\u001b[0m",
            "\u001b[0;31mNameError\u001b[0m                                 Traceback (most recent call last)",
            "\u001b[1;32m/Users/sophialawal/Visual_Studio/lesk/Lesk++_Experiment.ipynb Cell 3\u001b[0m in \u001b[0;36m<cell line: 2>\u001b[0;34m()\u001b[0m\n\u001b[1;32m      <a href='vscode-notebook-cell:/Users/sophialawal/Visual_Studio/lesk/Lesk%2B%2B_Experiment.ipynb#W2sZmlsZQ%3D%3D?line=0'>1</a>\u001b[0m \u001b[39m# Load auto extend to work space\u001b[39;00m\n\u001b[0;32m----> <a href='vscode-notebook-cell:/Users/sophialawal/Visual_Studio/lesk/Lesk%2B%2B_Experiment.ipynb#W2sZmlsZQ%3D%3D?line=1'>2</a>\u001b[0m offset_df \u001b[39m=\u001b[39m convert_offset(path\u001b[39m=\u001b[39moffset1_7_to_3)\n\u001b[1;32m      <a href='vscode-notebook-cell:/Users/sophialawal/Visual_Studio/lesk/Lesk%2B%2B_Experiment.ipynb#W2sZmlsZQ%3D%3D?line=2'>3</a>\u001b[0m df, uword \u001b[39m=\u001b[39m load_lexemes(offset_df, path \u001b[39m=\u001b[39mlexemes)\n\u001b[1;32m      <a href='vscode-notebook-cell:/Users/sophialawal/Visual_Studio/lesk/Lesk%2B%2B_Experiment.ipynb#W2sZmlsZQ%3D%3D?line=3'>4</a>\u001b[0m vec_net \u001b[39m=\u001b[39m vector_net(df, uword)\n",
            "\u001b[0;31mNameError\u001b[0m: name 'convert_offset' is not defined"
          ]
        }
      ],
      "source": [
        "# Load auto extend to work space\n",
        "offset_df = convert_offset(path=offset1_7_to_3)\n",
        "df, uword = load_lexemes(offset_df, path =lexemes)\n",
        "vec_net = vector_net(df, uword)\n"
      ]
    },
    {
      "cell_type": "code",
      "execution_count": 2,
      "metadata": {
        "id": "uCh6o_aL7sW9"
      },
      "outputs": [],
      "source": [
        "# load Word2Vec\n",
        "from gensim.models import Word2Vec, KeyedVectors\n",
        "word2vec = KeyedVectors.load_word2vec_format('GoogleNews-vectors-negative300.bin', binary=True, limit=300000)"
      ]
    },
    {
      "cell_type": "markdown",
      "metadata": {
        "id": "hWYiRZdpm4nx"
      },
      "source": [
        "# **Load Dataset**"
      ]
    },
    {
      "cell_type": "code",
      "execution_count": 7,
      "metadata": {
        "id": "svrolXoXmY82"
      },
      "outputs": [
        {
          "name": "stdout",
          "output_type": "stream",
          "text": [
            "[]\n",
            "[]\n",
            "0\n"
          ]
        },
        {
          "ename": "ValueError",
          "evalue": "a must be greater than 0 unless no samples are taken",
          "output_type": "error",
          "traceback": [
            "\u001b[0;31m---------------------------------------------------------------------------\u001b[0m",
            "\u001b[0;31mValueError\u001b[0m                                Traceback (most recent call last)",
            "\u001b[1;32m/Users/sophialawal/Visual_Studio/lesk/Lesk++_Experiment.ipynb Cell 6\u001b[0m in \u001b[0;36m<cell line: 2>\u001b[0;34m()\u001b[0m\n\u001b[1;32m      <a href='vscode-notebook-cell:/Users/sophialawal/Visual_Studio/lesk/Lesk%2B%2B_Experiment.ipynb#W5sZmlsZQ%3D%3D?line=0'>1</a>\u001b[0m \u001b[39m# Load Semcor\u001b[39;00m\n\u001b[0;32m----> <a href='vscode-notebook-cell:/Users/sophialawal/Visual_Studio/lesk/Lesk%2B%2B_Experiment.ipynb#W5sZmlsZQ%3D%3D?line=1'>2</a>\u001b[0m instances_cor, keys_cor \u001b[39m=\u001b[39m load_data(url\u001b[39m=\u001b[39murl, savename\u001b[39m=\u001b[39msemcor, filepath\u001b[39m=\u001b[39msemcor_dir,\n\u001b[1;32m      <a href='vscode-notebook-cell:/Users/sophialawal/Visual_Studio/lesk/Lesk%2B%2B_Experiment.ipynb#W5sZmlsZQ%3D%3D?line=2'>3</a>\u001b[0m               \u001b[39mtype\u001b[39m\u001b[39m=\u001b[39m\u001b[39m'\u001b[39m\u001b[39mr:gz\u001b[39m\u001b[39m'\u001b[39m, pattern\u001b[39m=\u001b[39mpattern_1, loader\u001b[39m=\u001b[39msemcor_loader, remove_stop_words\u001b[39m=\u001b[39m\u001b[39mTrue\u001b[39;00m)\n\u001b[1;32m      <a href='vscode-notebook-cell:/Users/sophialawal/Visual_Studio/lesk/Lesk%2B%2B_Experiment.ipynb#W5sZmlsZQ%3D%3D?line=6'>7</a>\u001b[0m \u001b[39m# Load sense eval 2\u001b[39;00m\n\u001b[1;32m      <a href='vscode-notebook-cell:/Users/sophialawal/Visual_Studio/lesk/Lesk%2B%2B_Experiment.ipynb#W5sZmlsZQ%3D%3D?line=7'>8</a>\u001b[0m instances_eval2, keys_eval2 \u001b[39m=\u001b[39m load_data(url\u001b[39m=\u001b[39murl_2, savename\u001b[39m=\u001b[39msenseval2, filepath\u001b[39m=\u001b[39msenseval2_dir,\n\u001b[1;32m      <a href='vscode-notebook-cell:/Users/sophialawal/Visual_Studio/lesk/Lesk%2B%2B_Experiment.ipynb#W5sZmlsZQ%3D%3D?line=8'>9</a>\u001b[0m               \u001b[39mtype\u001b[39m\u001b[39m=\u001b[39m\u001b[39m'\u001b[39m\u001b[39mr:gz\u001b[39m\u001b[39m'\u001b[39m, pattern\u001b[39m=\u001b[39mpattern_2, loader\u001b[39m=\u001b[39msenseval_loader, remove_stop_words\u001b[39m=\u001b[39m\u001b[39mTrue\u001b[39;00m)\n",
            "File \u001b[0;32m~/Visual_Studio/lesk/lesk/dataloader.py:210\u001b[0m, in \u001b[0;36mload_data\u001b[0;34m(url, savename, filepath, type, pattern, loader, remove_stop_words, word2vec)\u001b[0m\n\u001b[1;32m    208\u001b[0m parsed \u001b[39m=\u001b[39m parser(files)\n\u001b[1;32m    209\u001b[0m \u001b[39mprint\u001b[39m(parsed)\n\u001b[0;32m--> 210\u001b[0m instances, keys \u001b[39m=\u001b[39m loader(parsed, remove_stop_words, word2vec)\n\u001b[1;32m    211\u001b[0m \u001b[39mreturn\u001b[39;00m instances, keys\n",
            "File \u001b[0;32m~/Visual_Studio/lesk/lesk/dataloader.py:172\u001b[0m, in \u001b[0;36msemcor_loader\u001b[0;34m(parsed, remove_stop_words, word2vec)\u001b[0m\n\u001b[1;32m    170\u001b[0m length \u001b[39m=\u001b[39m \u001b[39mlen\u001b[39m(all_sentences)\n\u001b[1;32m    171\u001b[0m \u001b[39mprint\u001b[39m(length)\n\u001b[0;32m--> 172\u001b[0m indices \u001b[39m=\u001b[39m np\u001b[39m.\u001b[39;49mrandom\u001b[39m.\u001b[39;49mchoice(length, size\u001b[39m=\u001b[39;49m\u001b[39m5000\u001b[39;49m)\n\u001b[1;32m    173\u001b[0m \u001b[39mfor\u001b[39;00m idx \u001b[39min\u001b[39;00m indices:\n\u001b[1;32m    174\u001b[0m     sent \u001b[39m=\u001b[39m all_sentences[idx]\n",
            "File \u001b[0;32mmtrand.pyx:909\u001b[0m, in \u001b[0;36mnumpy.random.mtrand.RandomState.choice\u001b[0;34m()\u001b[0m\n",
            "\u001b[0;31mValueError\u001b[0m: a must be greater than 0 unless no samples are taken"
          ]
        }
      ],
      "source": [
        "# Load Semcor\n",
        "instances_cor, keys_cor = load_data(url=url, savename=semcor, filepath=semcor_dir,\n",
        "              type='r:gz', pattern=pattern_1, loader=semcor_loader, remove_stop_words=True)\n",
        "\n",
        "\n",
        "\n",
        "# Load sense eval 2\n",
        "instances_eval2, keys_eval2 = load_data(url=url_2, savename=senseval2, filepath=senseval2_dir,\n",
        "              type='r:gz', pattern=pattern_2, loader=senseval_loader, remove_stop_words=True)\n",
        "\n",
        "\n",
        "# Load sense eval 3\n",
        "instances_eval3, keys_eval3 = load_data(url=url_3, savename=senseval3, filepath=senseval3_dir,\n",
        "              type='r:gz', pattern=pattern_2, loader=senseval_loader, remove_stop_words=True)"
      ]
    },
    {
      "cell_type": "markdown",
      "metadata": {
        "id": "ssXIni0QNO3l"
      },
      "source": [
        "# **BASELINE: CONTEXT WITH STOP WORDS**"
      ]
    },
    {
      "cell_type": "markdown",
      "metadata": {
        "id": "1_ftAPT-MehN"
      },
      "source": [
        "## **Distributional Lesk**"
      ]
    },
    {
      "cell_type": "code",
      "execution_count": null,
      "metadata": {
        "colab": {
          "base_uri": "https://localhost:8080/"
        },
        "id": "7vARyLI6pWuk",
        "outputId": "9c8f8732-7bce-4a44-8483-b9cec8ec2170"
      },
      "outputs": [
        {
          "name": "stderr",
          "output_type": "stream",
          "text": [
            "100%|██████████| 2293/2293 [01:15<00:00, 30.50it/s]"
          ]
        },
        {
          "name": "stdout",
          "output_type": "stream",
          "text": [
            "44.0907\n"
          ]
        },
        {
          "name": "stderr",
          "output_type": "stream",
          "text": [
            "\n"
          ]
        }
      ],
      "source": [
        "# Run Experiment for sense Eval 2, dist lesk\n",
        "predictions_eval2, targets_eval2 = experiment_seneval(instances_eval2, keys_eval2, ModelType.DIST, remove_stopwords=False,vector_type=ModelType.BOTH )\n",
        "accuracy_eval2_dist = evaluate_accuracy(predictions_eval2, targets_eval2)\n",
        "print(accuracy_eval2_dist)"
      ]
    },
    {
      "cell_type": "code",
      "execution_count": null,
      "metadata": {
        "colab": {
          "base_uri": "https://localhost:8080/"
        },
        "id": "aTK4nhThpf0h",
        "outputId": "290bf42c-9e20-4e99-efc0-249801b8908e"
      },
      "outputs": [
        {
          "name": "stderr",
          "output_type": "stream",
          "text": [
            "100%|██████████| 1872/1872 [01:19<00:00, 23.58it/s]"
          ]
        },
        {
          "name": "stdout",
          "output_type": "stream",
          "text": [
            "38.6752\n"
          ]
        },
        {
          "name": "stderr",
          "output_type": "stream",
          "text": [
            "\n"
          ]
        }
      ],
      "source": [
        "# Run Experiment for sense Eval 3, Plain lesk\n",
        "predictions_eval3, targets_eval3 = experiment_seneval(instances_eval3, keys_eval3,ModelType.DIST, remove_stopwords=False,vector_type=ModelType.BOTH )\n",
        "accuracy_eval3_dist = evaluate_accuracy(predictions_eval3, targets_eval3)\n",
        "print(accuracy_eval3_dist)"
      ]
    },
    {
      "cell_type": "code",
      "execution_count": null,
      "metadata": {
        "colab": {
          "base_uri": "https://localhost:8080/"
        },
        "id": "U2dGggdxNa_c",
        "outputId": "7fca6d39-eeb2-4ab9-84d5-75eb01405168"
      },
      "outputs": [
        {
          "name": "stderr",
          "output_type": "stream",
          "text": [
            "27174it [17:28, 25.92it/s]"
          ]
        },
        {
          "name": "stdout",
          "output_type": "stream",
          "text": [
            "43.1\n"
          ]
        },
        {
          "name": "stderr",
          "output_type": "stream",
          "text": [
            "\n"
          ]
        }
      ],
      "source": [
        "# Run experiment for SenCor, dist Lesk\n",
        "predictions_cor, targets_cor = experiment_cor(instances_cor, keys_cor, ModelType.DIST, remove_stopwords=False, vector_type=ModelType.BOTH)\n",
        "accuracy_cor_dist = evaluate_accuracy(predictions_cor, targets_cor)\n",
        "print(accuracy_cor_dist)"
      ]
    },
    {
      "cell_type": "markdown",
      "metadata": {
        "id": "l1tezOvnVVX0"
      },
      "source": [
        "## **Distributional Lesk: GLOSS**"
      ]
    },
    {
      "cell_type": "code",
      "execution_count": null,
      "metadata": {
        "colab": {
          "base_uri": "https://localhost:8080/"
        },
        "id": "zQ1H9NnCVVX0",
        "outputId": "9c8f8732-7bce-4a44-8483-b9cec8ec2170"
      },
      "outputs": [
        {
          "name": "stderr",
          "output_type": "stream",
          "text": [
            "100%|██████████| 2293/2293 [01:15<00:00, 30.50it/s]"
          ]
        },
        {
          "name": "stdout",
          "output_type": "stream",
          "text": [
            "44.0907\n"
          ]
        },
        {
          "name": "stderr",
          "output_type": "stream",
          "text": [
            "\n"
          ]
        }
      ],
      "source": [
        "# Run Experiment for sense Eval 2, dist lesk\n",
        "predictions_eval2, targets_eval2 = experiment_seneval(instances_eval2, keys_eval2, ModelType.DIST, remove_stopwords=False,vector_type=ModelType.GLOSS )\n",
        "accuracy_eval2_dist = evaluate_accuracy(predictions_eval2, targets_eval2)\n",
        "print(accuracy_eval2_dist)"
      ]
    },
    {
      "cell_type": "code",
      "execution_count": null,
      "metadata": {
        "colab": {
          "base_uri": "https://localhost:8080/"
        },
        "id": "LWBXuwTjVVX1",
        "outputId": "290bf42c-9e20-4e99-efc0-249801b8908e"
      },
      "outputs": [
        {
          "name": "stderr",
          "output_type": "stream",
          "text": [
            "100%|██████████| 1872/1872 [01:19<00:00, 23.58it/s]"
          ]
        },
        {
          "name": "stdout",
          "output_type": "stream",
          "text": [
            "38.6752\n"
          ]
        },
        {
          "name": "stderr",
          "output_type": "stream",
          "text": [
            "\n"
          ]
        }
      ],
      "source": [
        "# Run Experiment for sense Eval 3, Plain lesk\n",
        "predictions_eval3, targets_eval3 = experiment_seneval(instances_eval3, keys_eval3,ModelType.DIST, remove_stopwords=False,vector_type=ModelType.GLOSS )\n",
        "accuracy_eval3_dist = evaluate_accuracy(predictions_eval3, targets_eval3)\n",
        "print(accuracy_eval3_dist)"
      ]
    },
    {
      "cell_type": "code",
      "execution_count": null,
      "metadata": {
        "colab": {
          "base_uri": "https://localhost:8080/"
        },
        "id": "9Z5YCEOnVVX1",
        "outputId": "7fca6d39-eeb2-4ab9-84d5-75eb01405168"
      },
      "outputs": [
        {
          "name": "stderr",
          "output_type": "stream",
          "text": [
            "27174it [17:28, 25.92it/s]"
          ]
        },
        {
          "name": "stdout",
          "output_type": "stream",
          "text": [
            "43.1\n"
          ]
        },
        {
          "name": "stderr",
          "output_type": "stream",
          "text": [
            "\n"
          ]
        }
      ],
      "source": [
        "# Run experiment for SenCor, dist Lesk\n",
        "predictions_cor, targets_cor = experiment_cor(instances_cor, keys_cor, ModelType.DIST, remove_stopwords=False, vector_type=ModelType.GLOSS)\n",
        "accuracy_cor_dist = evaluate_accuracy(predictions_cor, targets_cor)\n",
        "print(accuracy_cor_dist)"
      ]
    },
    {
      "cell_type": "markdown",
      "metadata": {
        "id": "d8H5QUemVaUJ"
      },
      "source": [
        "# **Distributional Lesk: Lexemes**"
      ]
    },
    {
      "cell_type": "code",
      "execution_count": null,
      "metadata": {
        "colab": {
          "base_uri": "https://localhost:8080/"
        },
        "id": "ngQrCOIcVaUJ",
        "outputId": "9c8f8732-7bce-4a44-8483-b9cec8ec2170"
      },
      "outputs": [
        {
          "name": "stderr",
          "output_type": "stream",
          "text": [
            "100%|██████████| 2293/2293 [01:15<00:00, 30.50it/s]"
          ]
        },
        {
          "name": "stdout",
          "output_type": "stream",
          "text": [
            "44.0907\n"
          ]
        },
        {
          "name": "stderr",
          "output_type": "stream",
          "text": [
            "\n"
          ]
        }
      ],
      "source": [
        "# Run Experiment for sense Eval 2, dist lesk\n",
        "predictions_eval2, targets_eval2 = experiment_seneval(instances_eval2, keys_eval2, ModelType.DIST, remove_stopwords=False,vector_type=ModelType.GLOSS )\n",
        "accuracy_eval2_dist = evaluate_accuracy(predictions_eval2, targets_eval2)\n",
        "print(accuracy_eval2_dist)"
      ]
    },
    {
      "cell_type": "code",
      "execution_count": null,
      "metadata": {
        "colab": {
          "base_uri": "https://localhost:8080/"
        },
        "id": "r2-7nfqwVaUK",
        "outputId": "290bf42c-9e20-4e99-efc0-249801b8908e"
      },
      "outputs": [
        {
          "name": "stderr",
          "output_type": "stream",
          "text": [
            "100%|██████████| 1872/1872 [01:19<00:00, 23.58it/s]"
          ]
        },
        {
          "name": "stdout",
          "output_type": "stream",
          "text": [
            "38.6752\n"
          ]
        },
        {
          "name": "stderr",
          "output_type": "stream",
          "text": [
            "\n"
          ]
        }
      ],
      "source": [
        "# Run Experiment for sense Eval 3, Plain lesk\n",
        "predictions_eval3, targets_eval3 = experiment_seneval(instances_eval3, keys_eval3,ModelType.DIST, remove_stopwords=False,vector_type=ModelType.GLOSS )\n",
        "accuracy_eval3_dist = evaluate_accuracy(predictions_eval3, targets_eval3)\n",
        "print(accuracy_eval3_dist)"
      ]
    },
    {
      "cell_type": "code",
      "execution_count": null,
      "metadata": {
        "colab": {
          "base_uri": "https://localhost:8080/"
        },
        "id": "B9pTwFWbVaUK",
        "outputId": "7fca6d39-eeb2-4ab9-84d5-75eb01405168"
      },
      "outputs": [
        {
          "name": "stderr",
          "output_type": "stream",
          "text": [
            "27174it [17:28, 25.92it/s]"
          ]
        },
        {
          "name": "stdout",
          "output_type": "stream",
          "text": [
            "43.1\n"
          ]
        },
        {
          "name": "stderr",
          "output_type": "stream",
          "text": [
            "\n"
          ]
        }
      ],
      "source": [
        "# Run experiment for SenCor, dist Lesk\n",
        "predictions_cor, targets_cor = experiment_cor(instances_cor, keys_cor, ModelType.DIST, remove_stopwords=False, vector_type=ModelType.GLOSS)\n",
        "accuracy_cor_dist = evaluate_accuracy(predictions_cor, targets_cor)\n",
        "print(accuracy_cor_dist)"
      ]
    },
    {
      "cell_type": "markdown",
      "metadata": {
        "id": "2lYlAMBkNfJM"
      },
      "source": [
        "# **EXTENSION: ROMOVE STOP WORDS ABD PUNTUATION FROM DICTIONARY GLOSSES, SENSE DISCRIOTION AND CONTEXTS IN OCCURENCE OF THE WORDS.**"
      ]
    },
    {
      "cell_type": "markdown",
      "metadata": {
        "id": "h8qi38zjWAO1"
      },
      "source": [
        "## **Distributional Lesk**"
      ]
    },
    {
      "cell_type": "code",
      "execution_count": null,
      "metadata": {
        "colab": {
          "base_uri": "https://localhost:8080/"
        },
        "id": "Apppemi9WAO1",
        "outputId": "9c8f8732-7bce-4a44-8483-b9cec8ec2170"
      },
      "outputs": [
        {
          "name": "stderr",
          "output_type": "stream",
          "text": [
            "100%|██████████| 2293/2293 [01:15<00:00, 30.50it/s]"
          ]
        },
        {
          "name": "stdout",
          "output_type": "stream",
          "text": [
            "44.0907\n"
          ]
        },
        {
          "name": "stderr",
          "output_type": "stream",
          "text": [
            "\n"
          ]
        }
      ],
      "source": [
        "# Run Experiment for sense Eval 2, dist lesk\n",
        "predictions_eval2, targets_eval2 = experiment_seneval(instances_eval2, keys_eval2, ModelType.DIST, remove_stopwords=True,vector_type=ModelType.BOTH )\n",
        "accuracy_eval2_dist = evaluate_accuracy(predictions_eval2, targets_eval2)\n",
        "print(accuracy_eval2_dist)"
      ]
    },
    {
      "cell_type": "code",
      "execution_count": null,
      "metadata": {
        "colab": {
          "base_uri": "https://localhost:8080/"
        },
        "id": "RkQFvD_xWAO2",
        "outputId": "290bf42c-9e20-4e99-efc0-249801b8908e"
      },
      "outputs": [
        {
          "name": "stderr",
          "output_type": "stream",
          "text": [
            "100%|██████████| 1872/1872 [01:19<00:00, 23.58it/s]"
          ]
        },
        {
          "name": "stdout",
          "output_type": "stream",
          "text": [
            "38.6752\n"
          ]
        },
        {
          "name": "stderr",
          "output_type": "stream",
          "text": [
            "\n"
          ]
        }
      ],
      "source": [
        "# Run Experiment for sense Eval 3, Plain lesk\n",
        "predictions_eval3, targets_eval3 = experiment_seneval(instances_eval3, keys_eval3,ModelType.DIST, remove_stopwords=True,vector_type=ModelType.BOTH )\n",
        "accuracy_eval3_dist = evaluate_accuracy(predictions_eval3, targets_eval3)\n",
        "print(accuracy_eval3_dist)"
      ]
    },
    {
      "cell_type": "code",
      "execution_count": null,
      "metadata": {
        "colab": {
          "base_uri": "https://localhost:8080/"
        },
        "id": "TywABxMFWAO2",
        "outputId": "7fca6d39-eeb2-4ab9-84d5-75eb01405168"
      },
      "outputs": [
        {
          "name": "stderr",
          "output_type": "stream",
          "text": [
            "27174it [17:28, 25.92it/s]"
          ]
        },
        {
          "name": "stdout",
          "output_type": "stream",
          "text": [
            "43.1\n"
          ]
        },
        {
          "name": "stderr",
          "output_type": "stream",
          "text": [
            "\n"
          ]
        }
      ],
      "source": [
        "# Run experiment for SenCor, dist Lesk\n",
        "predictions_cor, targets_cor = experiment_cor(instances_cor, keys_cor, ModelType.DIST, remove_stopwords=True, vector_type=ModelType.BOTH)\n",
        "accuracy_cor_dist = evaluate_accuracy(predictions_cor, targets_cor)\n",
        "print(accuracy_cor_dist)"
      ]
    },
    {
      "cell_type": "markdown",
      "metadata": {
        "id": "Z5yF0fWWWJEB"
      },
      "source": [
        "## **Distributional Lesk: GLOSS**"
      ]
    },
    {
      "cell_type": "code",
      "execution_count": null,
      "metadata": {
        "colab": {
          "base_uri": "https://localhost:8080/"
        },
        "id": "g_wFm559WJEC",
        "outputId": "9c8f8732-7bce-4a44-8483-b9cec8ec2170"
      },
      "outputs": [
        {
          "name": "stderr",
          "output_type": "stream",
          "text": [
            "100%|██████████| 2293/2293 [01:15<00:00, 30.50it/s]"
          ]
        },
        {
          "name": "stdout",
          "output_type": "stream",
          "text": [
            "44.0907\n"
          ]
        },
        {
          "name": "stderr",
          "output_type": "stream",
          "text": [
            "\n"
          ]
        }
      ],
      "source": [
        "# Run Experiment for sense Eval 2, dist lesk\n",
        "predictions_eval2, targets_eval2 = experiment_seneval(instances_eval2, keys_eval2, ModelType.DIST, remove_stopwords=True,vector_type=ModelType.GLOSS )\n",
        "accuracy_eval2_dist = evaluate_accuracy(predictions_eval2, targets_eval2)\n",
        "print(accuracy_eval2_dist)"
      ]
    },
    {
      "cell_type": "code",
      "execution_count": null,
      "metadata": {
        "colab": {
          "base_uri": "https://localhost:8080/"
        },
        "id": "G17dqaZsWJEC",
        "outputId": "290bf42c-9e20-4e99-efc0-249801b8908e"
      },
      "outputs": [
        {
          "name": "stderr",
          "output_type": "stream",
          "text": [
            "100%|██████████| 1872/1872 [01:19<00:00, 23.58it/s]"
          ]
        },
        {
          "name": "stdout",
          "output_type": "stream",
          "text": [
            "38.6752\n"
          ]
        },
        {
          "name": "stderr",
          "output_type": "stream",
          "text": [
            "\n"
          ]
        }
      ],
      "source": [
        "# Run Experiment for sense Eval 3, Plain lesk\n",
        "predictions_eval3, targets_eval3 = experiment_seneval(instances_eval3, keys_eval3,ModelType.DIST, remove_stopwords=True,vector_type=ModelType.GLOSS )\n",
        "accuracy_eval3_dist = evaluate_accuracy(predictions_eval3, targets_eval3)\n",
        "print(accuracy_eval3_dist)"
      ]
    },
    {
      "cell_type": "code",
      "execution_count": null,
      "metadata": {
        "colab": {
          "base_uri": "https://localhost:8080/"
        },
        "id": "yvqRXBeGWJEC",
        "outputId": "7fca6d39-eeb2-4ab9-84d5-75eb01405168"
      },
      "outputs": [
        {
          "name": "stderr",
          "output_type": "stream",
          "text": [
            "27174it [17:28, 25.92it/s]"
          ]
        },
        {
          "name": "stdout",
          "output_type": "stream",
          "text": [
            "43.1\n"
          ]
        },
        {
          "name": "stderr",
          "output_type": "stream",
          "text": [
            "\n"
          ]
        }
      ],
      "source": [
        "# Run experiment for SenCor, dist Lesk\n",
        "predictions_cor, targets_cor = experiment_cor(instances_cor, keys_cor, ModelType.DIST, remove_stopwords=True, vector_type=ModelType.GLOSS)\n",
        "accuracy_cor_dist = evaluate_accuracy(predictions_cor, targets_cor)\n",
        "print(accuracy_cor_dist)"
      ]
    },
    {
      "cell_type": "markdown",
      "metadata": {
        "id": "RrpZbXGMWhWn"
      },
      "source": [
        "# **Distributional Lesk: Lexemes**"
      ]
    },
    {
      "cell_type": "code",
      "execution_count": null,
      "metadata": {
        "colab": {
          "base_uri": "https://localhost:8080/"
        },
        "id": "rZLk8PDBWhWo",
        "outputId": "9c8f8732-7bce-4a44-8483-b9cec8ec2170"
      },
      "outputs": [
        {
          "name": "stderr",
          "output_type": "stream",
          "text": [
            "100%|██████████| 2293/2293 [01:15<00:00, 30.50it/s]"
          ]
        },
        {
          "name": "stdout",
          "output_type": "stream",
          "text": [
            "44.0907\n"
          ]
        },
        {
          "name": "stderr",
          "output_type": "stream",
          "text": [
            "\n"
          ]
        }
      ],
      "source": [
        "# Run Experiment for sense Eval 2, dist lesk\n",
        "predictions_eval2, targets_eval2 = experiment_seneval(instances_eval2, keys_eval2, ModelType.DIST, remove_stopwords=True,vector_type=ModelType.LEXMES )\n",
        "accuracy_eval2_dist = evaluate_accuracy(predictions_eval2, targets_eval2)\n",
        "print(accuracy_eval2_dist)"
      ]
    },
    {
      "cell_type": "code",
      "execution_count": null,
      "metadata": {
        "colab": {
          "base_uri": "https://localhost:8080/"
        },
        "id": "hIwlNqU0WhWo",
        "outputId": "290bf42c-9e20-4e99-efc0-249801b8908e"
      },
      "outputs": [
        {
          "name": "stderr",
          "output_type": "stream",
          "text": [
            "100%|██████████| 1872/1872 [01:19<00:00, 23.58it/s]"
          ]
        },
        {
          "name": "stdout",
          "output_type": "stream",
          "text": [
            "38.6752\n"
          ]
        },
        {
          "name": "stderr",
          "output_type": "stream",
          "text": [
            "\n"
          ]
        }
      ],
      "source": [
        "# Run Experiment for sense Eval 3, Plain lesk\n",
        "predictions_eval3, targets_eval3 = experiment_seneval(instances_eval3, keys_eval3,ModelType.DIST, remove_stopwords=True,vector_type=ModelType.LEXMES )\n",
        "accuracy_eval3_dist = evaluate_accuracy(predictions_eval3, targets_eval3)\n",
        "print(accuracy_eval3_dist)"
      ]
    },
    {
      "cell_type": "code",
      "execution_count": null,
      "metadata": {
        "colab": {
          "base_uri": "https://localhost:8080/"
        },
        "id": "qFpJkmfTWhWo",
        "outputId": "7fca6d39-eeb2-4ab9-84d5-75eb01405168"
      },
      "outputs": [
        {
          "name": "stderr",
          "output_type": "stream",
          "text": [
            "27174it [17:28, 25.92it/s]"
          ]
        },
        {
          "name": "stdout",
          "output_type": "stream",
          "text": [
            "43.1\n"
          ]
        },
        {
          "name": "stderr",
          "output_type": "stream",
          "text": [
            "\n"
          ]
        }
      ],
      "source": [
        "# Run experiment for SenCor, dist Lesk\n",
        "predictions_cor, targets_cor = experiment_cor(instances_cor, keys_cor, ModelType.DIST, remove_stopwords=True, vector_type=ModelType.LEXMES)\n",
        "accuracy_cor_dist = evaluate_accuracy(predictions_cor, targets_cor)\n",
        "print(accuracy_cor_dist)"
      ]
    }
  ],
  "metadata": {
    "colab": {
      "collapsed_sections": [],
      "provenance": []
    },
    "kernelspec": {
      "display_name": "Python 3.9.7 ('pytorch')",
      "language": "python",
      "name": "python3"
    },
    "language_info": {
      "codemirror_mode": {
        "name": "ipython",
        "version": 3
      },
      "file_extension": ".py",
      "mimetype": "text/x-python",
      "name": "python",
      "nbconvert_exporter": "python",
      "pygments_lexer": "ipython3",
      "version": "3.9.13"
    },
    "vscode": {
      "interpreter": {
        "hash": "b777bbc84079058c5e36f0ef08671f0323e34f11d1010bfc5612caa6df8bbcc6"
      }
    }
  },
  "nbformat": 4,
  "nbformat_minor": 0
}
