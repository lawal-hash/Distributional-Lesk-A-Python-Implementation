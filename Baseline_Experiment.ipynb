{
  "cells": [
    {
      "cell_type": "code",
      "execution_count": 1,
      "metadata": {
        "id": "Y5961_W99DjV"
      },
      "outputs": [
        {
          "name": "stdout",
          "output_type": "stream",
          "text": [
            "Requirement already satisfied: pywsd in /Users/sophialawal/opt/anaconda3/envs/pytorch/lib/python3.9/site-packages (1.2.5)\n",
            "Requirement already satisfied: wn==0.0.23 in /Users/sophialawal/opt/anaconda3/envs/pytorch/lib/python3.9/site-packages (from pywsd) (0.0.23)\n",
            "Requirement already satisfied: numpy in /Users/sophialawal/opt/anaconda3/envs/pytorch/lib/python3.9/site-packages (from pywsd) (1.23.3)\n",
            "Requirement already satisfied: nltk in /Users/sophialawal/opt/anaconda3/envs/pytorch/lib/python3.9/site-packages (from pywsd) (3.6.7)\n",
            "Requirement already satisfied: pandas in /Users/sophialawal/opt/anaconda3/envs/pytorch/lib/python3.9/site-packages (from pywsd) (1.5.0)\n",
            "Requirement already satisfied: six in /Users/sophialawal/opt/anaconda3/envs/pytorch/lib/python3.9/site-packages (from pywsd) (1.16.0)\n",
            "Requirement already satisfied: tqdm in /Users/sophialawal/opt/anaconda3/envs/pytorch/lib/python3.9/site-packages (from nltk->pywsd) (4.64.1)\n",
            "Requirement already satisfied: joblib in /Users/sophialawal/opt/anaconda3/envs/pytorch/lib/python3.9/site-packages (from nltk->pywsd) (1.2.0)\n",
            "Requirement already satisfied: regex>=2021.8.3 in /Users/sophialawal/opt/anaconda3/envs/pytorch/lib/python3.9/site-packages (from nltk->pywsd) (2022.9.13)\n",
            "Requirement already satisfied: click in /Users/sophialawal/opt/anaconda3/envs/pytorch/lib/python3.9/site-packages (from nltk->pywsd) (8.1.3)\n",
            "Requirement already satisfied: python-dateutil>=2.8.1 in /Users/sophialawal/opt/anaconda3/envs/pytorch/lib/python3.9/site-packages (from pandas->pywsd) (2.8.2)\n",
            "Requirement already satisfied: pytz>=2020.1 in /Users/sophialawal/opt/anaconda3/envs/pytorch/lib/python3.9/site-packages (from pandas->pywsd) (2022.2.1)\n"
          ]
        }
      ],
      "source": [
        "!pip install pywsd"
      ]
    },
    {
      "cell_type": "code",
      "execution_count": 2,
      "metadata": {
        "id": "h_c2TceG-G2L"
      },
      "outputs": [
        {
          "name": "stdout",
          "output_type": "stream",
          "text": [
            "Requirement already satisfied: nltk in /Users/sophialawal/opt/anaconda3/envs/pytorch/lib/python3.9/site-packages (3.6.7)\n",
            "Collecting nltk\n",
            "  Using cached nltk-3.7-py3-none-any.whl (1.5 MB)\n",
            "Requirement already satisfied: tqdm in /Users/sophialawal/opt/anaconda3/envs/pytorch/lib/python3.9/site-packages (from nltk) (4.64.1)\n",
            "Requirement already satisfied: click in /Users/sophialawal/opt/anaconda3/envs/pytorch/lib/python3.9/site-packages (from nltk) (8.1.3)\n",
            "Requirement already satisfied: joblib in /Users/sophialawal/opt/anaconda3/envs/pytorch/lib/python3.9/site-packages (from nltk) (1.2.0)\n",
            "Requirement already satisfied: regex>=2021.8.3 in /Users/sophialawal/opt/anaconda3/envs/pytorch/lib/python3.9/site-packages (from nltk) (2022.9.13)\n",
            "Installing collected packages: nltk\n",
            "  Attempting uninstall: nltk\n",
            "    Found existing installation: nltk 3.6.7\n",
            "    Uninstalling nltk-3.6.7:\n",
            "      Successfully uninstalled nltk-3.6.7\n",
            "Successfully installed nltk-3.7\n",
            "/Users/sophialawal/opt/anaconda3/envs/pytorch/lib/python3.9/runpy.py:127: RuntimeWarning: 'nltk.downloader' found in sys.modules after import of package 'nltk', but prior to execution of 'nltk.downloader'; this may result in unpredictable behaviour\n",
            "  warn(RuntimeWarning(msg))\n",
            "[nltk_data] Downloading collection 'popular'\n",
            "[nltk_data]    | \n",
            "[nltk_data]    | Downloading package cmudict to\n",
            "[nltk_data]    |     /Users/sophialawal/nltk_data...\n",
            "[nltk_data]    |   Package cmudict is already up-to-date!\n",
            "[nltk_data]    | Downloading package gazetteers to\n",
            "[nltk_data]    |     /Users/sophialawal/nltk_data...\n",
            "[nltk_data]    |   Package gazetteers is already up-to-date!\n",
            "[nltk_data]    | Downloading package genesis to\n",
            "[nltk_data]    |     /Users/sophialawal/nltk_data...\n",
            "[nltk_data]    |   Package genesis is already up-to-date!\n",
            "[nltk_data]    | Downloading package gutenberg to\n",
            "[nltk_data]    |     /Users/sophialawal/nltk_data...\n",
            "[nltk_data]    |   Package gutenberg is already up-to-date!\n",
            "[nltk_data]    | Downloading package inaugural to\n",
            "[nltk_data]    |     /Users/sophialawal/nltk_data...\n",
            "[nltk_data]    |   Package inaugural is already up-to-date!\n",
            "[nltk_data]    | Downloading package movie_reviews to\n",
            "[nltk_data]    |     /Users/sophialawal/nltk_data...\n",
            "[nltk_data]    |   Package movie_reviews is already up-to-date!\n",
            "[nltk_data]    | Downloading package names to\n",
            "[nltk_data]    |     /Users/sophialawal/nltk_data...\n",
            "[nltk_data]    |   Package names is already up-to-date!\n",
            "[nltk_data]    | Downloading package shakespeare to\n",
            "[nltk_data]    |     /Users/sophialawal/nltk_data...\n",
            "[nltk_data]    |   Package shakespeare is already up-to-date!\n",
            "[nltk_data]    | Downloading package stopwords to\n",
            "[nltk_data]    |     /Users/sophialawal/nltk_data...\n",
            "[nltk_data]    |   Package stopwords is already up-to-date!\n",
            "[nltk_data]    | Downloading package treebank to\n",
            "[nltk_data]    |     /Users/sophialawal/nltk_data...\n",
            "[nltk_data]    |   Package treebank is already up-to-date!\n",
            "[nltk_data]    | Downloading package twitter_samples to\n",
            "[nltk_data]    |     /Users/sophialawal/nltk_data...\n",
            "[nltk_data]    |   Package twitter_samples is already up-to-date!\n",
            "[nltk_data]    | Downloading package omw to\n",
            "[nltk_data]    |     /Users/sophialawal/nltk_data...\n",
            "[nltk_data]    |   Package omw is already up-to-date!\n",
            "[nltk_data]    | Downloading package omw-1.4 to\n",
            "[nltk_data]    |     /Users/sophialawal/nltk_data...\n",
            "[nltk_data]    |   Package omw-1.4 is already up-to-date!\n",
            "[nltk_data]    | Downloading package wordnet to\n",
            "[nltk_data]    |     /Users/sophialawal/nltk_data...\n",
            "[nltk_data]    |   Package wordnet is already up-to-date!\n",
            "[nltk_data]    | Downloading package wordnet2021 to\n",
            "[nltk_data]    |     /Users/sophialawal/nltk_data...\n",
            "[nltk_data]    |   Package wordnet2021 is already up-to-date!\n",
            "[nltk_data]    | Downloading package wordnet31 to\n",
            "[nltk_data]    |     /Users/sophialawal/nltk_data...\n",
            "[nltk_data]    |   Package wordnet31 is already up-to-date!\n",
            "[nltk_data]    | Downloading package wordnet_ic to\n",
            "[nltk_data]    |     /Users/sophialawal/nltk_data...\n",
            "[nltk_data]    |   Package wordnet_ic is already up-to-date!\n",
            "[nltk_data]    | Downloading package words to\n",
            "[nltk_data]    |     /Users/sophialawal/nltk_data...\n",
            "[nltk_data]    |   Package words is already up-to-date!\n",
            "[nltk_data]    | Downloading package maxent_ne_chunker to\n",
            "[nltk_data]    |     /Users/sophialawal/nltk_data...\n",
            "[nltk_data]    |   Package maxent_ne_chunker is already up-to-date!\n",
            "[nltk_data]    | Downloading package punkt to\n",
            "[nltk_data]    |     /Users/sophialawal/nltk_data...\n",
            "[nltk_data]    |   Package punkt is already up-to-date!\n",
            "[nltk_data]    | Downloading package snowball_data to\n",
            "[nltk_data]    |     /Users/sophialawal/nltk_data...\n",
            "[nltk_data]    |   Package snowball_data is already up-to-date!\n",
            "[nltk_data]    | Downloading package averaged_perceptron_tagger to\n",
            "[nltk_data]    |     /Users/sophialawal/nltk_data...\n",
            "[nltk_data]    |   Package averaged_perceptron_tagger is already up-\n",
            "[nltk_data]    |       to-date!\n",
            "[nltk_data]    | \n",
            "[nltk_data]  Done downloading collection popular\n"
          ]
        }
      ],
      "source": [
        "!pip install -U nltk\n",
        "!python -m nltk.downloader 'popular'"
      ]
    },
    {
      "cell_type": "code",
      "execution_count": 3,
      "metadata": {
        "id": "GRnijAB3RZD8"
      },
      "outputs": [
        {
          "ename": "ModuleNotFoundError",
          "evalue": "No module named 'models'",
          "output_type": "error",
          "traceback": [
            "\u001b[0;31m---------------------------------------------------------------------------\u001b[0m",
            "\u001b[0;31mModuleNotFoundError\u001b[0m                       Traceback (most recent call last)",
            "\u001b[1;32m/Users/sophialawal/Visual_Studio/lesk/Baseline_Experiment.ipynb Cell 3\u001b[0m in \u001b[0;36m<cell line: 3>\u001b[0;34m()\u001b[0m\n\u001b[1;32m      <a href='vscode-notebook-cell:/Users/sophialawal/Visual_Studio/lesk/Baseline_Experiment.ipynb#W2sZmlsZQ%3D%3D?line=0'>1</a>\u001b[0m \u001b[39mfrom\u001b[39;00m \u001b[39mlesk\u001b[39;00m\u001b[39m.\u001b[39;00m\u001b[39mpath\u001b[39;00m \u001b[39mimport\u001b[39;00m \u001b[39m*\u001b[39m\n\u001b[1;32m      <a href='vscode-notebook-cell:/Users/sophialawal/Visual_Studio/lesk/Baseline_Experiment.ipynb#W2sZmlsZQ%3D%3D?line=1'>2</a>\u001b[0m \u001b[39mfrom\u001b[39;00m \u001b[39mlesk\u001b[39;00m\u001b[39m.\u001b[39;00m\u001b[39mdataloader\u001b[39;00m \u001b[39mimport\u001b[39;00m \u001b[39m*\u001b[39m \u001b[39m#load_data, semcor_loader, senseval_loader, ModelType, get_filenames\u001b[39;00m\n\u001b[0;32m----> <a href='vscode-notebook-cell:/Users/sophialawal/Visual_Studio/lesk/Baseline_Experiment.ipynb#W2sZmlsZQ%3D%3D?line=2'>3</a>\u001b[0m \u001b[39mfrom\u001b[39;00m \u001b[39mlesk\u001b[39;00m\u001b[39m.\u001b[39;00m\u001b[39mexperiment\u001b[39;00m \u001b[39mimport\u001b[39;00m \u001b[39m*\u001b[39m\n",
            "File \u001b[0;32m~/Visual_Studio/lesk/lesk/experiment.py:10\u001b[0m, in \u001b[0;36m<module>\u001b[0;34m\u001b[0m\n\u001b[1;32m      1\u001b[0m \u001b[39m# -*- coding: utf-8 -*-\u001b[39;00m\n\u001b[1;32m      2\u001b[0m \u001b[39m\"\"\"experiment.ipynb\u001b[39;00m\n\u001b[1;32m      3\u001b[0m \n\u001b[1;32m      4\u001b[0m \u001b[39mAutomatically generated by Colaboratory.\u001b[39;00m\n\u001b[0;32m   (...)\u001b[0m\n\u001b[1;32m      7\u001b[0m \u001b[39m    https://colab.research.google.com/drive/1RVoJG3JYCr0f8Yk1rmQDel_5QX0ICRHy\u001b[39;00m\n\u001b[1;32m      8\u001b[0m \u001b[39m\"\"\"\u001b[39;00m\n\u001b[0;32m---> 10\u001b[0m \u001b[39mfrom\u001b[39;00m \u001b[39mmodels\u001b[39;00m \u001b[39mimport\u001b[39;00m plain_lesk, most_common_sense, dist_lesk\n\u001b[1;32m     11\u001b[0m \u001b[39mfrom\u001b[39;00m \u001b[39mdataloader\u001b[39;00m \u001b[39mimport\u001b[39;00m ModelType\n\u001b[1;32m     12\u001b[0m \u001b[39mfrom\u001b[39;00m \u001b[39mtqdm\u001b[39;00m\u001b[39m.\u001b[39;00m\u001b[39mnotebook\u001b[39;00m \u001b[39mimport\u001b[39;00m tqdm_notebook\n",
            "\u001b[0;31mModuleNotFoundError\u001b[0m: No module named 'models'"
          ]
        }
      ],
      "source": [
        "from lesk.path import *\n",
        "from lesk.dataloader import * #load_data, semcor_loader, senseval_loader, ModelType, get_filenames\n",
        "from lesk.experiment import *\n"
      ]
    },
    {
      "cell_type": "code",
      "execution_count": 8,
      "metadata": {},
      "outputs": [
        {
          "name": "stdout",
          "output_type": "stream",
          "text": [
            "Collecting gensim\n",
            "  Downloading gensim-4.2.0-cp39-cp39-macosx_10_9_x86_64.whl (24.0 MB)\n",
            "\u001b[K     |████████████████████████████████| 24.0 MB 560 kB/s eta 0:00:01     |████████████████████████▎       | 18.2 MB 2.3 MB/s eta 0:00:03\n",
            "\u001b[?25hRequirement already satisfied: scipy>=0.18.1 in /Users/sophialawal/opt/anaconda3/envs/pytorch/lib/python3.9/site-packages (from gensim) (1.7.3)\n",
            "Requirement already satisfied: numpy>=1.17.0 in /Users/sophialawal/opt/anaconda3/envs/pytorch/lib/python3.9/site-packages (from gensim) (1.21.2)\n",
            "Collecting smart-open>=1.8.1\n",
            "  Downloading smart_open-6.1.0-py3-none-any.whl (58 kB)\n",
            "\u001b[K     |████████████████████████████████| 58 kB 5.5 MB/s eta 0:00:01\n",
            "\u001b[?25hInstalling collected packages: smart-open, gensim\n",
            "Successfully installed gensim-4.2.0 smart-open-6.1.0\n"
          ]
        }
      ],
      "source": [
        "!pip install -U gensim\n"
      ]
    },
    {
      "cell_type": "code",
      "execution_count": 10,
      "metadata": {},
      "outputs": [],
      "source": [
        "from gensim.models import Word2Vec, KeyedVectors\n",
        "word2vec = KeyedVectors.load_word2vec_format('GoogleNews-vectors-negative300.bin', binary=True, limit=300000)"
      ]
    },
    {
      "cell_type": "markdown",
      "metadata": {
        "id": "hWYiRZdpm4nx"
      },
      "source": [
        "# **Load Dataset**"
      ]
    },
    {
      "cell_type": "code",
      "execution_count": 15,
      "metadata": {
        "id": "svrolXoXmY82"
      },
      "outputs": [
        {
          "name": "stdout",
          "output_type": "stream",
          "text": [
            "[]\n",
            "[]\n",
            "[]\n",
            "[]\n"
          ]
        }
      ],
      "source": [
        "# Load Semcor\n",
        "# instances_cor, keys_cor = load_data(url=url, savename=semcor, filepath=semcor_dir,\n",
        "             # type='r:gz', pattern=pattern_1, loader=semcor_loader, remove_stop_words=True,  word2vec=None)\n",
        "\n",
        "\n",
        "\n",
        "# Load sense eval 2\n",
        "instances_eval2, keys_eval2 = load_data(url=url_2, savename=senseval2, filepath=senseval2_dir,\n",
        "              type='r:gz', pattern=pattern_2, loader=senseval_loader, remove_stop_words=True)\n",
        "\n",
        "\n",
        "# Load sense eval 3\n",
        "instances_eval3, keys_eval3 = load_data(url=url_3, savename=senseval3, filepath=senseval3_dir,\n",
        "              type='r:gz', pattern=pattern_2, loader=senseval_loader, remove_stop_words=True)"
      ]
    },
    {
      "cell_type": "code",
      "execution_count": 14,
      "metadata": {},
      "outputs": [
        {
          "data": {
            "text/plain": [
              "{}"
            ]
          },
          "execution_count": 14,
          "metadata": {},
          "output_type": "execute_result"
        }
      ],
      "source": [
        "instances_eval3"
      ]
    },
    {
      "cell_type": "markdown",
      "metadata": {
        "id": "ssXIni0QNO3l"
      },
      "source": [
        "# **BASELINE: CONTEXT WITH STOP WORDS**"
      ]
    },
    {
      "cell_type": "markdown",
      "metadata": {
        "id": "gcvIkwnTQ433"
      },
      "source": [
        "### **Most Common Sense Experiment**"
      ]
    },
    {
      "cell_type": "code",
      "execution_count": null,
      "metadata": {
        "colab": {
          "base_uri": "https://localhost:8080/"
        },
        "id": "vlnDVFNKQ434",
        "outputId": "101c9aaf-5b3c-4c8b-b9b6-b41d2a1c1c99"
      },
      "outputs": [
        {
          "name": "stderr",
          "output_type": "stream",
          "text": [
            "28154it [01:20, 349.20it/s]"
          ]
        },
        {
          "name": "stdout",
          "output_type": "stream",
          "text": [
            "The accuracy of the most common sense on SemCor data is : 66.4559\n"
          ]
        },
        {
          "name": "stderr",
          "output_type": "stream",
          "text": [
            "\n"
          ]
        }
      ],
      "source": [
        "# Run experiment for SenCor\n",
        "predictions_cor, targets_cor = experiment_cor(instances_cor, keys_cor, ModelType.MFS, remove_stopwords=False, vector_type=ModelType.BOTH)\n",
        "accuracy_cor_mfs = evaluate_accuracy(predictions_cor, targets_cor)\n",
        "print('The accuracy of the most common sense on SemCor data is :', accuracy_cor_mfs)"
      ]
    },
    {
      "cell_type": "code",
      "execution_count": 12,
      "metadata": {
        "colab": {
          "base_uri": "https://localhost:8080/"
        },
        "id": "pZXHE0vWQ435",
        "outputId": "068a6d2f-2006-451e-8e33-9b4ae1a0c51a"
      },
      "outputs": [
        {
          "data": {
            "application/vnd.jupyter.widget-view+json": {
              "model_id": "75d8fe0b4bac4f26b600310f1c15ff52",
              "version_major": 2,
              "version_minor": 0
            },
            "text/plain": [
              "0it [00:00, ?it/s]"
            ]
          },
          "metadata": {},
          "output_type": "display_data"
        },
        {
          "ename": "ZeroDivisionError",
          "evalue": "division by zero",
          "output_type": "error",
          "traceback": [
            "\u001b[0;31m---------------------------------------------------------------------------\u001b[0m",
            "\u001b[0;31mZeroDivisionError\u001b[0m                         Traceback (most recent call last)",
            "\u001b[1;32m/Users/sophialawal/Visual Studio/lesk/Baseline_Experiment.ipynb Cell 11\u001b[0m in \u001b[0;36m<cell line: 3>\u001b[0;34m()\u001b[0m\n\u001b[1;32m      <a href='vscode-notebook-cell:/Users/sophialawal/Visual%20Studio/lesk/Baseline_Experiment.ipynb#X16sZmlsZQ%3D%3D?line=0'>1</a>\u001b[0m \u001b[39m# Run Experiment for sense Eval 2\u001b[39;00m\n\u001b[1;32m      <a href='vscode-notebook-cell:/Users/sophialawal/Visual%20Studio/lesk/Baseline_Experiment.ipynb#X16sZmlsZQ%3D%3D?line=1'>2</a>\u001b[0m predictions_eval2, targets_eval2 \u001b[39m=\u001b[39m experiment_seneval(instances_eval2, keys_eval2, ModelType\u001b[39m.\u001b[39mMFS, remove_stopwords\u001b[39m=\u001b[39m\u001b[39mFalse\u001b[39;00m, vector_type\u001b[39m=\u001b[39mModelType\u001b[39m.\u001b[39mBOTH)\n\u001b[0;32m----> <a href='vscode-notebook-cell:/Users/sophialawal/Visual%20Studio/lesk/Baseline_Experiment.ipynb#X16sZmlsZQ%3D%3D?line=2'>3</a>\u001b[0m accuracy_eval2_mfs \u001b[39m=\u001b[39m evaluate_accuracy(predictions_eval2, targets_eval2)\n\u001b[1;32m      <a href='vscode-notebook-cell:/Users/sophialawal/Visual%20Studio/lesk/Baseline_Experiment.ipynb#X16sZmlsZQ%3D%3D?line=3'>4</a>\u001b[0m \u001b[39mprint\u001b[39m(accuracy_eval2_mfs)\n",
            "File \u001b[0;32m~/Visual Studio/lesk/experiment.py:67\u001b[0m, in \u001b[0;36mevaluate_accuracy\u001b[0;34m(predictions, targets)\u001b[0m\n\u001b[1;32m     65\u001b[0m     \u001b[39mif\u001b[39;00m \u001b[39mstr\u001b[39m(target) \u001b[39min\u001b[39;00m \u001b[39mstr\u001b[39m(prediction):\n\u001b[1;32m     66\u001b[0m         correct \u001b[39m+\u001b[39m\u001b[39m=\u001b[39m \u001b[39m1\u001b[39m\n\u001b[0;32m---> 67\u001b[0m accuracy \u001b[39m=\u001b[39m \u001b[39mround\u001b[39m((correct \u001b[39m/\u001b[39;49m total) \u001b[39m*\u001b[39m \u001b[39m100\u001b[39m, \u001b[39m4\u001b[39m)\n\u001b[1;32m     68\u001b[0m \u001b[39mreturn\u001b[39;00m accuracy\n",
            "\u001b[0;31mZeroDivisionError\u001b[0m: division by zero"
          ]
        }
      ],
      "source": [
        "# Run Experiment for sense Eval 2\n",
        "predictions_eval2, targets_eval2 = experiment_seneval(instances_eval2, keys_eval2, ModelType.MFS, remove_stopwords=False, vector_type=ModelType.BOTH)\n",
        "accuracy_eval2_mfs = evaluate_accuracy(predictions_eval2, targets_eval2)\n",
        "print(accuracy_eval2_mfs)"
      ]
    },
    {
      "cell_type": "code",
      "execution_count": 13,
      "metadata": {
        "id": "eRgzprHBQ435"
      },
      "outputs": [
        {
          "data": {
            "application/vnd.jupyter.widget-view+json": {
              "model_id": "15d8f03592ba47f9b63eb4cf43d2dcdb",
              "version_major": 2,
              "version_minor": 0
            },
            "text/plain": [
              "0it [00:00, ?it/s]"
            ]
          },
          "metadata": {},
          "output_type": "display_data"
        },
        {
          "ename": "ZeroDivisionError",
          "evalue": "division by zero",
          "output_type": "error",
          "traceback": [
            "\u001b[0;31m---------------------------------------------------------------------------\u001b[0m",
            "\u001b[0;31mZeroDivisionError\u001b[0m                         Traceback (most recent call last)",
            "\u001b[1;32m/Users/sophialawal/Visual Studio/lesk/Baseline_Experiment.ipynb Cell 12\u001b[0m in \u001b[0;36m<cell line: 3>\u001b[0;34m()\u001b[0m\n\u001b[1;32m      <a href='vscode-notebook-cell:/Users/sophialawal/Visual%20Studio/lesk/Baseline_Experiment.ipynb#X20sZmlsZQ%3D%3D?line=0'>1</a>\u001b[0m \u001b[39m# Run Experiment for sense Eval 3\u001b[39;00m\n\u001b[1;32m      <a href='vscode-notebook-cell:/Users/sophialawal/Visual%20Studio/lesk/Baseline_Experiment.ipynb#X20sZmlsZQ%3D%3D?line=1'>2</a>\u001b[0m predictions_eval3, targets_eval3 \u001b[39m=\u001b[39m experiment_seneval(instances_eval3, keys_eval3, ModelType\u001b[39m.\u001b[39mMFS, remove_stopwords\u001b[39m=\u001b[39m\u001b[39mFalse\u001b[39;00m, vector_type\u001b[39m=\u001b[39mModelType\u001b[39m.\u001b[39mBOTH)\n\u001b[0;32m----> <a href='vscode-notebook-cell:/Users/sophialawal/Visual%20Studio/lesk/Baseline_Experiment.ipynb#X20sZmlsZQ%3D%3D?line=2'>3</a>\u001b[0m accuracy_eval3_mfs \u001b[39m=\u001b[39m evaluate_accuracy(predictions_eval3, targets_eval3)\n\u001b[1;32m      <a href='vscode-notebook-cell:/Users/sophialawal/Visual%20Studio/lesk/Baseline_Experiment.ipynb#X20sZmlsZQ%3D%3D?line=3'>4</a>\u001b[0m \u001b[39mprint\u001b[39m(accuracy_eval3_mfs)\n",
            "File \u001b[0;32m~/Visual Studio/lesk/experiment.py:67\u001b[0m, in \u001b[0;36mevaluate_accuracy\u001b[0;34m(predictions, targets)\u001b[0m\n\u001b[1;32m     65\u001b[0m     \u001b[39mif\u001b[39;00m \u001b[39mstr\u001b[39m(target) \u001b[39min\u001b[39;00m \u001b[39mstr\u001b[39m(prediction):\n\u001b[1;32m     66\u001b[0m         correct \u001b[39m+\u001b[39m\u001b[39m=\u001b[39m \u001b[39m1\u001b[39m\n\u001b[0;32m---> 67\u001b[0m accuracy \u001b[39m=\u001b[39m \u001b[39mround\u001b[39m((correct \u001b[39m/\u001b[39;49m total) \u001b[39m*\u001b[39m \u001b[39m100\u001b[39m, \u001b[39m4\u001b[39m)\n\u001b[1;32m     68\u001b[0m \u001b[39mreturn\u001b[39;00m accuracy\n",
            "\u001b[0;31mZeroDivisionError\u001b[0m: division by zero"
          ]
        }
      ],
      "source": [
        "# Run Experiment for sense Eval 3\n",
        "predictions_eval3, targets_eval3 = experiment_seneval(instances_eval3, keys_eval3, ModelType.MFS, remove_stopwords=False, vector_type=ModelType.BOTH)\n",
        "accuracy_eval3_mfs = evaluate_accuracy(predictions_eval3, targets_eval3)\n",
        "print(accuracy_eval3_mfs)"
      ]
    },
    {
      "cell_type": "markdown",
      "metadata": {
        "id": "Nyz3Fa-qRFde"
      },
      "source": [
        "### **Plain Lesk Experiment**"
      ]
    },
    {
      "cell_type": "code",
      "execution_count": null,
      "metadata": {
        "id": "DTF3g7WhRFde"
      },
      "outputs": [],
      "source": [
        "# Run Experiment for sense Eval 2, Plain lesk\n",
        "predictions_eval2, targets_eval2 = experiment_seneval(instances_eval2, keys_eval2, ModelType.PLAIN, remove_stopwords=False, vector_type=ModelType.BOTH)\n",
        "accuracy_eval2_plain = evaluate_accuracy(predictions_eval2, targets_eval2)\n",
        "print(accuracy_eval2_plain)"
      ]
    },
    {
      "cell_type": "code",
      "execution_count": null,
      "metadata": {
        "id": "P0MT5EL2RFde"
      },
      "outputs": [],
      "source": [
        "# Run Experiment for sense Eval 3, Plain lesk\n",
        "predictions_eval3, targets_eval3 = experiment_seneval(instances_eval3, keys_eval3,ModelType.PLAIN, remove_stopwords=False, vector_type=ModelType.BOTH)\n",
        "accuracy_eval3_plain = evaluate_accuracy(predictions_eval3, targets_eval3)\n",
        "print(accuracy_eval3_plain)"
      ]
    },
    {
      "cell_type": "code",
      "execution_count": null,
      "metadata": {
        "colab": {
          "base_uri": "https://localhost:8080/"
        },
        "id": "gZveOdTiRFdf",
        "outputId": "8a1e992e-3ce5-459c-a714-e0f015d08c84"
      },
      "outputs": [
        {
          "name": "stderr",
          "output_type": "stream",
          "text": [
            "27174it [08:51, 51.10it/s]"
          ]
        },
        {
          "name": "stdout",
          "output_type": "stream",
          "text": [
            "14.1385\n"
          ]
        },
        {
          "name": "stderr",
          "output_type": "stream",
          "text": [
            "\n"
          ]
        }
      ],
      "source": [
        "# Run experiment for SenCor, Plain Lesk\n",
        "predictions_cor, targets_cor = experiment_cor(instances_cor, keys_cor, ModelType.PLAIN, remove_stopwords=False, vector_type=ModelType.BOTH)\n",
        "accuracy_cor_plain = evaluate_accuracy(predictions_cor, targets_cor)\n",
        "print(accuracy_cor_plain)"
      ]
    },
    {
      "cell_type": "markdown",
      "metadata": {
        "id": "2lYlAMBkNfJM"
      },
      "source": [
        "# **EXTENSION: ROMOVE STOP WORDS ABD PUNTUATION FROM DICTIONARY GLOSSES, SENSE DISCRIOTION AND CONTEXTS IN OCCURENCE OF THE WORDS.**"
      ]
    },
    {
      "cell_type": "markdown",
      "metadata": {
        "id": "BL8BgcWgE3dW"
      },
      "source": [
        "### **Most Common Sense Experiment**"
      ]
    },
    {
      "cell_type": "code",
      "execution_count": null,
      "metadata": {
        "colab": {
          "base_uri": "https://localhost:8080/"
        },
        "id": "Xd9zlSHXEJUc",
        "outputId": "101c9aaf-5b3c-4c8b-b9b6-b41d2a1c1c99"
      },
      "outputs": [
        {
          "name": "stderr",
          "output_type": "stream",
          "text": [
            "28154it [01:20, 349.20it/s]"
          ]
        },
        {
          "name": "stdout",
          "output_type": "stream",
          "text": [
            "The accuracy of the most common sense on SemCor data is : 66.4559\n"
          ]
        },
        {
          "name": "stderr",
          "output_type": "stream",
          "text": [
            "\n"
          ]
        }
      ],
      "source": [
        "# Run experiment for SenCor\n",
        "predictions_cor, targets_cor = experiment_cor(instances_cor, keys_cor, ModelType.MFS, remove_stopwords=True, vector_type=ModelType.BOTH)\n",
        "accuracy_cor_mfs = evaluate_accuracy(predictions_cor, targets_cor)\n",
        "print('The accuracy of the most common sense on SemCor data is :', accuracy_cor_mfs)"
      ]
    },
    {
      "cell_type": "code",
      "execution_count": null,
      "metadata": {
        "colab": {
          "base_uri": "https://localhost:8080/"
        },
        "id": "O-kTjFvS3Kgj",
        "outputId": "068a6d2f-2006-451e-8e33-9b4ae1a0c51a"
      },
      "outputs": [
        {
          "name": "stderr",
          "output_type": "stream",
          "text": [
            "100%|██████████| 2293/2293 [00:04<00:00, 501.86it/s]"
          ]
        },
        {
          "name": "stdout",
          "output_type": "stream",
          "text": [
            "56.0401\n"
          ]
        },
        {
          "name": "stderr",
          "output_type": "stream",
          "text": [
            "\n"
          ]
        }
      ],
      "source": [
        "# Run Experiment for sense Eval 2\n",
        "predictions_eval2, targets_eval2 = experiment_seneval(instances_eval2, keys_eval2, ModelType.MFS, remove_stopwords=True, vector_type=ModelType.BOTH)\n",
        "accuracy_eval2_mfs = evaluate_accuracy(predictions_eval2, targets_eval2)\n",
        "print(accuracy_eval2_mfs)"
      ]
    },
    {
      "cell_type": "code",
      "execution_count": null,
      "metadata": {
        "colab": {
          "base_uri": "https://localhost:8080/"
        },
        "id": "CnlS7NhpF2WT",
        "outputId": "012f7e43-78c4-4889-8f32-0682228a976e"
      },
      "outputs": [
        {
          "name": "stderr",
          "output_type": "stream",
          "text": [
            "100%|██████████| 1872/1872 [00:04<00:00, 376.10it/s]"
          ]
        },
        {
          "name": "stdout",
          "output_type": "stream",
          "text": [
            "54.4338\n"
          ]
        },
        {
          "name": "stderr",
          "output_type": "stream",
          "text": [
            "\n"
          ]
        }
      ],
      "source": [
        "# Run Experiment for sense Eval 3\n",
        "predictions_eval3, targets_eval3 = experiment_seneval(instances_eval3, keys_eval3, ModelType.MFS, remove_stopwords=True, vector_type=ModelType.BOTH)\n",
        "accuracy_eval3_mfs = evaluate_accuracy(predictions_eval3, targets_eval3)\n",
        "print(accuracy_eval3_mfs)"
      ]
    },
    {
      "cell_type": "markdown",
      "metadata": {
        "id": "ggCZvTLVF_cM"
      },
      "source": [
        "### **Plain Lesk Experiment**"
      ]
    },
    {
      "cell_type": "code",
      "execution_count": null,
      "metadata": {
        "colab": {
          "base_uri": "https://localhost:8080/"
        },
        "id": "nJMpncYvKek_",
        "outputId": "6138a654-c8c6-423e-f71b-6577fb54041f"
      },
      "outputs": [
        {
          "name": "stderr",
          "output_type": "stream",
          "text": [
            "100%|██████████| 2293/2293 [00:39<00:00, 58.29it/s]"
          ]
        },
        {
          "name": "stdout",
          "output_type": "stream",
          "text": [
            "11.1208\n"
          ]
        },
        {
          "name": "stderr",
          "output_type": "stream",
          "text": [
            "\n"
          ]
        }
      ],
      "source": [
        "# Run Experiment for sense Eval 2, Plain lesk\n",
        "predictions_eval2, targets_eval2 = experiment_seneval(instances_eval2, keys_eval2, ModelType.PLAIN, remove_stopwords=True, vector_type=ModelType.BOTH)\n",
        "accuracy_eval2_plain = evaluate_accuracy(predictions_eval2, targets_eval2)\n",
        "print(accuracy_eval2_plain)"
      ]
    },
    {
      "cell_type": "code",
      "execution_count": null,
      "metadata": {
        "colab": {
          "base_uri": "https://localhost:8080/"
        },
        "id": "FtFBGvCKOuFd",
        "outputId": "a1ef03e9-8aa5-4f8e-a3f3-10dbc62e4bf8"
      },
      "outputs": [
        {
          "name": "stderr",
          "output_type": "stream",
          "text": [
            "100%|██████████| 1872/1872 [00:40<00:00, 46.51it/s]"
          ]
        },
        {
          "name": "stdout",
          "output_type": "stream",
          "text": [
            "12.5534\n"
          ]
        },
        {
          "name": "stderr",
          "output_type": "stream",
          "text": [
            "\n"
          ]
        }
      ],
      "source": [
        "# Run Experiment for sense Eval 3, Plain lesk\n",
        "predictions_eval3, targets_eval3 = experiment_seneval(instances_eval3, keys_eval3,ModelType.PLAIN, remove_stopwords=True, vector_type=ModelType.BOTH)\n",
        "accuracy_eval3_plain = evaluate_accuracy(predictions_eval3, targets_eval3)\n",
        "print(accuracy_eval3_plain)"
      ]
    },
    {
      "cell_type": "code",
      "execution_count": null,
      "metadata": {
        "colab": {
          "base_uri": "https://localhost:8080/"
        },
        "id": "90Bym2xlXTqu",
        "outputId": "8a1e992e-3ce5-459c-a714-e0f015d08c84"
      },
      "outputs": [
        {
          "name": "stderr",
          "output_type": "stream",
          "text": [
            "27174it [08:51, 51.10it/s]"
          ]
        },
        {
          "name": "stdout",
          "output_type": "stream",
          "text": [
            "14.1385\n"
          ]
        },
        {
          "name": "stderr",
          "output_type": "stream",
          "text": [
            "\n"
          ]
        }
      ],
      "source": [
        "# Run experiment for SenCor, Plain Lesk\n",
        "predictions_cor, targets_cor = experiment_cor(instances_cor, keys_cor, ModelType.PLAIN, remove_stopwords=True, vector_type=ModelType.BOTH)\n",
        "accuracy_cor_plain = evaluate_accuracy(predictions_cor, targets_cor)\n",
        "print(accuracy_cor_plain)"
      ]
    }
  ],
  "metadata": {
    "colab": {
      "collapsed_sections": [],
      "provenance": []
    },
    "kernelspec": {
      "display_name": "Python 3.9.7 ('pytorch')",
      "language": "python",
      "name": "python3"
    },
    "language_info": {
      "codemirror_mode": {
        "name": "ipython",
        "version": 3
      },
      "file_extension": ".py",
      "mimetype": "text/x-python",
      "name": "python",
      "nbconvert_exporter": "python",
      "pygments_lexer": "ipython3",
      "version": "3.9.13"
    },
    "vscode": {
      "interpreter": {
        "hash": "b777bbc84079058c5e36f0ef08671f0323e34f11d1010bfc5612caa6df8bbcc6"
      }
    }
  },
  "nbformat": 4,
  "nbformat_minor": 0
}
